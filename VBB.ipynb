{
 "cells": [
  {
   "cell_type": "code",
   "execution_count": 3,
   "metadata": {},
   "outputs": [],
   "source": [
    "import folium\n",
    "from folium.plugins import HeatMap\n",
    "\n",
    "\n",
    "m = folium.Map(location=[45.5236, -122.6750])\n",
    "import os\n",
    "\n",
    "points = []\n",
    "with open('data/stops.txt') as f:\n",
    "    next(f)\n",
    "    for line in f:\n",
    "        line = line.split(';')\n",
    "        lat = float(line[4].strip('\"'))\n",
    "        lon = float(line[5].strip('\"'))\n",
    "        points.append([lat, lon])\n",
    "HeatMap(points).add_to(m)\n",
    "m.save(os.path.join('results', 'VBBHeatmap.html'))"
   ]
  },
  {
   "cell_type": "code",
   "execution_count": null,
   "metadata": {},
   "outputs": [],
   "source": []
  }
 ],
 "metadata": {
  "kernelspec": {
   "display_name": "Python 3",
   "language": "python",
   "name": "python3"
  },
  "language_info": {
   "codemirror_mode": {
    "name": "ipython",
    "version": 3
   },
   "file_extension": ".py",
   "mimetype": "text/x-python",
   "name": "python",
   "nbconvert_exporter": "python",
   "pygments_lexer": "ipython3",
   "version": "3.6.5"
  }
 },
 "nbformat": 4,
 "nbformat_minor": 2
}
